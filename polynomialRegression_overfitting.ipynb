{
  "nbformat": 4,
  "nbformat_minor": 0,
  "metadata": {
    "colab": {
      "provenance": []
    },
    "kernelspec": {
      "name": "python3",
      "display_name": "Python 3"
    },
    "language_info": {
      "name": "python"
    }
  },
  "cells": [
    {
      "cell_type": "markdown",
      "source": [
        "#### Mount Google Drive"
      ],
      "metadata": {
        "id": "1Sn4PEwOH9jg"
      }
    },
    {
      "cell_type": "code",
      "execution_count": null,
      "metadata": {
        "colab": {
          "base_uri": "https://localhost:8080/"
        },
        "id": "5cSVkNEo9euf",
        "outputId": "2e6b2500-983a-41a1-a988-f250e652fb3b"
      },
      "outputs": [
        {
          "output_type": "stream",
          "name": "stdout",
          "text": [
            "Drive already mounted at /content/drive; to attempt to forcibly remount, call drive.mount(\"/content/drive\", force_remount=True).\n"
          ]
        }
      ],
      "source": [
        "#Mount Google Drive\n",
        "from google.colab import drive\n",
        "drive.mount('/content/drive')"
      ]
    },
    {
      "cell_type": "markdown",
      "source": [
        "#### Import Statements"
      ],
      "metadata": {
        "id": "z8JS_b-QObhN"
      }
    },
    {
      "cell_type": "code",
      "source": [
        "import pandas as pd\n",
        "import matplotlib.pyplot as plt\n",
        "import operator\n",
        "from sklearn.linear_model import LinearRegression\n",
        "from sklearn.preprocessing import PolynomialFeatures\n",
        "from sklearn.metrics import mean_absolute_error as mae\n",
        "from sklearn.metrics import mean_squared_error as mse\n",
        "from sklearn import linear_model\n",
        "from sklearn.linear_model import Ridge\n",
        "from sklearn.linear_model import ElasticNet"
      ],
      "metadata": {
        "id": "Jzy2BWp2H5H6"
      },
      "execution_count": null,
      "outputs": []
    },
    {
      "cell_type": "markdown",
      "source": [
        "#### Load CSV File"
      ],
      "metadata": {
        "id": "3c4VdM8qIFea"
      }
    },
    {
      "cell_type": "code",
      "source": [
        "# Assign training and testing data\n",
        "df_train = pd.read_csv(\"/content/drive/MyDrive/dataset/kaggle_linear_regression_data/train.csv\")\n",
        "df_test = pd.read_csv(\"/content/drive/MyDrive/dataset/kaggle_linear_regression_data/test.csv\")\n",
        "\n",
        "# Delete duplicates\n",
        "df_train = df_train.dropna()\n",
        "df_test = df_test.dropna()"
      ],
      "metadata": {
        "id": "BRx-_TSdIH55"
      },
      "execution_count": null,
      "outputs": []
    },
    {
      "cell_type": "markdown",
      "source": [
        "#### Assign X and Y Variables"
      ],
      "metadata": {
        "id": "LX8o9_QEPh80"
      }
    },
    {
      "cell_type": "code",
      "source": [
        "# Prepare data for training\n",
        "x_train = df_train['x']\n",
        "y_train = df_train['y']\n",
        "x_train = x_train.values.reshape(-1, 1)\n",
        "y_train = y_train.values.reshape(-1, 1)\n",
        "\n",
        "x_test = df_test['x']\n",
        "y_test = df_test['y']\n",
        "x_test = x_test.values.reshape(-1, 1)\n",
        "y_test = y_test.values.reshape(-1, 1)"
      ],
      "metadata": {
        "id": "vMr4TNq5IVCN"
      },
      "execution_count": null,
      "outputs": []
    },
    {
      "cell_type": "markdown",
      "source": [
        "#### Plot Training vs. Testing Data"
      ],
      "metadata": {
        "id": "SztNRKmDOJPq"
      }
    },
    {
      "cell_type": "code",
      "source": [
        "plt.figure(figsize=(16,8))\n",
        "plt.subplot(1,2,1)\n",
        "plt.scatter(x_train, y_train)\n",
        "plt.title('Training Set')\n",
        "plt.subplot(1,2,2)\n",
        "plt.scatter(x_test, y_test)\n",
        "plt.title('Testing Set')"
      ],
      "metadata": {
        "id": "kWk9UiYsLYxr"
      },
      "execution_count": null,
      "outputs": []
    },
    {
      "cell_type": "markdown",
      "source": [
        "#### Polynomial Regression Model (Overfitting Data)"
      ],
      "metadata": {
        "id": "AQENtZoyOvY9"
      }
    },
    {
      "cell_type": "code",
      "source": [
        "## train ##\n",
        "\n",
        "x = x_train\n",
        "y = y_train\n",
        "\n",
        "polynomial_features = PolynomialFeatures(degree = 40)\n",
        "x_poly = polynomial_features.fit_transform(x)\n",
        "\n",
        "model = LinearRegression()\n",
        "model.fit(x_poly, y)\n",
        "y_pred = model.predict(x_poly)\n",
        "\n",
        "print('Training Error:', mae(y, y_pred), mse(y,y_pred))\n",
        "print('R2 Score:', model.score(x_poly, y))\n",
        "\n",
        "plt.figure(figsize=(10, 5))\n",
        "plt.subplot(1,2,1)\n",
        "plt.scatter(x,y)\n",
        "\n",
        "# Sort the values of x\n",
        "sort_axis = operator.itemgetter(0)\n",
        "sorted_zip = sorted(zip(x, y_pred), key=sort_axis)\n",
        "x, y_pred = zip(*sorted_zip)\n",
        "plt.plot(x, y_pred, color='m')\n",
        "plt.title(\"Training Set\")\n"
      ],
      "metadata": {
        "id": "2ocEdi1iEBXg"
      },
      "execution_count": null,
      "outputs": []
    },
    {
      "cell_type": "code",
      "source": [
        "## test ##\n",
        "\n",
        "x = x_test\n",
        "y = y_test\n",
        "\n",
        "polynomial_features = PolynomialFeatures(degree = 40)\n",
        "x_poly = polynomial_features.fit_transform(x)\n",
        "y_pred = model.predict(x_poly)\n",
        "\n",
        "print('Testing Error:', mae(y, y_pred), mse(y,y_pred))\n",
        "print('R2 Score:', model.score(x_poly, y))\n",
        "\n",
        "plt.figure(figsize=(10, 5))\n",
        "plt.subplot(1,2,1)\n",
        "plt.scatter(x,y)\n",
        "\n",
        "# Sort the values of x\n",
        "sort_axis = operator.itemgetter(0)\n",
        "sorted_zip = sorted(zip(x, y_pred), key=sort_axis)\n",
        "x, y_pred = zip(*sorted_zip)\n",
        "plt.plot(x, y_pred, color='m')\n",
        "plt.title(\"Testing Set\")"
      ],
      "metadata": {
        "colab": {
          "base_uri": "https://localhost:8080/",
          "height": 388
        },
        "id": "qjh2UC6GFcZv",
        "outputId": "0f21f768-19bc-4400-f93b-f2be57335a95"
      },
      "execution_count": null,
      "outputs": [
        {
          "output_type": "stream",
          "name": "stdout",
          "text": [
            "Testing Error: 17.019353936778213 400.453077195749\n",
            "R2 Score: 0.5245910073513691\n"
          ]
        },
        {
          "output_type": "execute_result",
          "data": {
            "text/plain": [
              "Text(0.5, 1.0, 'Testing Set')"
            ]
          },
          "metadata": {},
          "execution_count": 21
        },
        {
          "output_type": "display_data",
          "data": {
            "text/plain": [
              "<Figure size 720x360 with 1 Axes>"
            ],
            "image/png": "[encoded data removed]"
          },
          "metadata": {
            "needs_background": "light"
          }
        }
      ]
    },
    {
      "cell_type": "markdown",
      "source": [
        "#### L1 Regularization"
      ],
      "metadata": {
        "id": "FrHhRqlQKi0s"
      }
    },
    {
      "cell_type": "code",
      "source": [
        "x = x_test\n",
        "y = y_test\n",
        "\n",
        "polynomial_features = PolynomialFeatures(degree = 40)\n",
        "x_poly = polynomial_features.fit_transform(x)\n",
        "\n",
        "lasso_model = linear_model.Lasso(alpha=50, max_iter=100, tol=0.1)\n",
        "lasso_model.fit(x_poly, y)\n",
        "y_pred = lasso_model.predict(x_poly)\n",
        "\n",
        "print('Testing Error:', mae(y, y_pred), mse(y,y_pred))\n",
        "print('R2 Score:', lasso_model.score(x_poly, y))\n",
        "\n",
        "\n",
        "plt.figure(figsize=(10, 5))\n",
        "plt.subplot(1,2,1)\n",
        "plt.scatter(x,y)\n",
        "\n",
        "# Sort the values of x\n",
        "sort_axis = operator.itemgetter(0)\n",
        "sorted_zip = sorted(zip(x, y_pred), key=sort_axis)\n",
        "x, y_pred = zip(*sorted_zip)\n",
        "plt.plot(x, y_pred, color='m')\n",
        "plt.title(\"Testing Set\")"
      ],
      "metadata": {
        "colab": {
          "base_uri": "https://localhost:8080/",
          "height": 388
        },
        "id": "iBss7S-IKiPu",
        "outputId": "1d1e3b4b-907b-461f-90a4-b070ac5f7dfc"
      },
      "execution_count": null,
      "outputs": [
        {
          "output_type": "stream",
          "name": "stdout",
          "text": [
            "Testing Error: 2.4647708169815763 9.75515063651092\n",
            "R2 Score: 0.988418901985432\n"
          ]
        },
        {
          "output_type": "execute_result",
          "data": {
            "text/plain": [
              "Text(0.5, 1.0, 'Testing Set')"
            ]
          },
          "metadata": {},
          "execution_count": 22
        },
        {
          "output_type": "display_data",
          "data": {
            "text/plain": [
              "<Figure size 720x360 with 1 Axes>"
            ],
            "image/png": "[encoded data removed]"
          },
          "metadata": {
            "needs_background": "light"
          }
        }
      ]
    },
    {
      "cell_type": "markdown",
      "source": [
        "#### L2 Regularization"
      ],
      "metadata": {
        "id": "Eskv0kYUTJxX"
      }
    },
    {
      "cell_type": "code",
      "source": [
        "x = x_test\n",
        "y = y_test\n",
        "\n",
        "polynomial_features = PolynomialFeatures(degree = 40)\n",
        "x_poly = polynomial_features.fit_transform(x)\n",
        "\n",
        "ridge_model = Ridge(alpha=50, max_iter=100, tol=0.1)\n",
        "ridge_model.fit(x_poly, y)\n",
        "y_pred = ridge_model.predict(x_poly)\n",
        "\n",
        "print('Testing Error:', mae(y, y_pred), mse(y,y_pred))\n",
        "print('R2 Score:', ridge_model.score(x_poly, y))\n",
        "\n",
        "\n",
        "plt.figure(figsize=(10, 5))\n",
        "plt.subplot(1,2,1)\n",
        "plt.scatter(x,y)\n",
        "\n",
        "# Sort the values of x\n",
        "sort_axis = operator.itemgetter(0)\n",
        "sorted_zip = sorted(zip(x, y_pred), key=sort_axis)\n",
        "x, y_pred = zip(*sorted_zip)\n",
        "plt.plot(x, y_pred, color='m')\n",
        "plt.title(\"Testing Set\")"
      ],
      "metadata": {
        "id": "LsfoQvqHTIeK"
      },
      "execution_count": null,
      "outputs": []
    }
  ]
}